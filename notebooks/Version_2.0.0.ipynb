{
    "cells": [
        {
            "cell_type": "markdown",
            "id": "f18c875c",
            "metadata": {},
            "source": [
                "# bidspm 2.0.0"
            ]
        },
        {
            "cell_type": "code",
            "execution_count": null,
            "id": "531be7ea",
            "metadata": {},
            "outputs": [],
            "source": [
                "% addpath('/home/remi/matlab/SPM/spm12');\n",
                "run ../initCppSpm.m;"
            ]
        },
        {
            "cell_type": "markdown",
            "id": "b05bcbca",
            "metadata": {},
            "source": [
                "## New things"
            ]
        },
        {
            "cell_type": "markdown",
            "id": "a4a24616",
            "metadata": {},
            "source": [
                "### `opt.dir`: setting where your input data is and where your ouput data will go\n",
                "\n",
                "Where each type of data is located can now be declared all within the same `opt.dir` field."
            ]
        },
        {
            "cell_type": "code",
            "execution_count": null,
            "id": "fd28fc98",
            "metadata": {},
            "outputs": [],
            "source": [
                "demo_dir = fullfile(pwd, '..', 'demos', 'MoAE');\n",
                "\n",
                "opt.dir.raw = fullfile(demo_dir, 'inputs', 'raw');\n",
                "opt.dir.derivatives = fullfile(demo_dir, 'outputs', 'derivatives');\n",
                "\n",
                "opt = checkOptions(opt);\n",
                "\n",
                "opt.dir"
            ]
        },
        {
            "cell_type": "markdown",
            "id": "c241bdff",
            "metadata": {},
            "source": [
                "### `opt.pipeline`: setting which type of analysis you are runnning"
            ]
        },
        {
            "cell_type": "code",
            "execution_count": null,
            "id": "c405f9f0",
            "metadata": {},
            "outputs": [],
            "source": [
                "opt.pipeline"
            ]
        },
        {
            "cell_type": "code",
            "execution_count": null,
            "id": "88c33925",
            "metadata": {},
            "outputs": [],
            "source": [
                "clear opt\n",
                "opt.dir.raw = fullfile(demo_dir, 'inputs', 'raw');\n",
                "opt.dir.preproc = fullfile(demo_dir, 'outputs', 'derivatives', 'fmriprep');\n",
                "opt.pipeline.type = 'stats';\n",
                "opt = checkOptions(opt);\n",
                "\n",
                "opt.dir"
            ]
        },
        {
            "cell_type": "markdown",
            "id": "27728982",
            "metadata": {},
            "source": [
                "### `opt.fwhm`: all smoothing information is now part of the option structure"
            ]
        },
        {
            "cell_type": "code",
            "execution_count": null,
            "id": "5ff45d7c",
            "metadata": {},
            "outputs": [],
            "source": [
                "opt.fwhm"
            ]
        },
        {
            "cell_type": "markdown",
            "id": "56314f11",
            "metadata": {},
            "source": [
                "### `opt.verbosity` to silence non SPM output to the prompt"
            ]
        },
        {
            "cell_type": "code",
            "execution_count": null,
            "id": "f2c1bb03",
            "metadata": {},
            "outputs": [],
            "source": [
                "demo_dir = fullfile(pwd, '..', 'demos', 'MoAE');\n",
                "\n",
                "clear opt\n",
                "\n",
                "opt.taskName = 'auditory';\n",
                "\n",
                "opt.dir.raw = fullfile(demo_dir, 'inputs', 'raw');\n",
                "opt.dir.derivatives = fullfile(demo_dir, 'outputs', 'derivatives');\n",
                "\n",
                "opt = checkOptions(opt);\n",
                "\n",
                "bidsCopyInputFolder(opt);"
            ]
        },
        {
            "cell_type": "code",
            "execution_count": null,
            "id": "b9084e34",
            "metadata": {},
            "outputs": [],
            "source": [
                "opt.verbosity = false;\n",
                "bidsCopyInputFolder(opt);"
            ]
        },
        {
            "cell_type": "markdown",
            "id": "743da668",
            "metadata": {
                "tags": []
            },
            "source": [
                "### `opt.dryRun` for debugging\n",
                "\n",
                "Possibility to do a \"dry run\": prepare your workflows but don't run them with SPM."
            ]
        },
        {
            "cell_type": "code",
            "execution_count": null,
            "id": "4da878db",
            "metadata": {},
            "outputs": [],
            "source": [
                "opt.verbosity = true;\n",
                "opt.dryRun = true;\n",
                "bidsSpatialPrepro(opt);"
            ]
        },
        {
            "cell_type": "markdown",
            "id": "d23e23ab",
            "metadata": {},
            "source": [
                "### `opt.segment`: to reuse previous segmentation or not\n",
                "In several places, workflows will be smarter and won't rerun the segmentation of the anatomical image if it has already been segemented.\n",
                "\n",
                "The segmentation can still be forced by setting the options appropriately."
            ]
        },
        {
            "cell_type": "code",
            "execution_count": null,
            "id": "6ea38930",
            "metadata": {},
            "outputs": [],
            "source": [
                "opt.segment.force = true;\n",
                "bidsSpatialPrepro(opt);"
            ]
        },
        {
            "cell_type": "markdown",
            "id": "00a8e86b",
            "metadata": {},
            "source": [
                "### `opt.QA`: quality analysis options are now centralized in one place"
            ]
        },
        {
            "cell_type": "code",
            "execution_count": null,
            "id": "5e05e469",
            "metadata": {},
            "outputs": [],
            "source": [
                "opt.QA"
            ]
        }
    ],
    "metadata": {
        "kernelspec": {
            "display_name": "Octave",
            "language": "octave",
            "name": "octave"
        },
        "language_info": {
            "file_extension": ".m",
            "help_links": [
                {
                    "text": "GNU Octave",
                    "url": "https://www.gnu.org/software/octave/support.html"
                },
                {
                    "text": "Octave Kernel",
                    "url": "https://github.com/Calysto/octave_kernel"
                },
                {
                    "text": "MetaKernel Magics",
                    "url": "https://metakernel.readthedocs.io/en/latest/source/README.html"
                }
            ],
            "mimetype": "text/x-octave",
            "name": "octave",
            "version": "4.2.2"
        }
    },
    "nbformat": 4,
    "nbformat_minor": 5
}
