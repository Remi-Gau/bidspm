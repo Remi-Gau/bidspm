{
    "cells": [
        {
            "cell_type": "markdown",
            "id": "e52740b3",
            "metadata": {},
            "source": [
                "# MoAE stats demo"
            ]
        },
        {
            "cell_type": "markdown",
            "id": "a4c548d4",
            "metadata": {
                "tags": []
            },
            "source": [
                "This is an interactive demo of how to use BIDSpm to run GLM analysis.\n",
                "\n",
                "<!-- If you are not familiar with jupyter notebook here is a link on how to set it up -- > LINK\n",
                "\n",
                "You can also use Binder to try this online -- > LINK -->\n",
                "\n",
                "### Graphic output\n",
                "\n",
                "When using on Binder some of the SPM graphic output will not be generated, as SPM takes this environment as being command line only. \n",
                "\n",
                "### Running the demo locally\n",
                "\n",
                "**If you are running this notebook locally AND if SPM is not the in Octave path**\n",
                "\n",
                "Run the following cell with the appropriate path for your computer.\n",
                "\n",
                "**Note:** SPM will need to be compiled to work for Octave for some parts of this demo to "
            ]
        },
        {
            "cell_type": "code",
            "execution_count": null,
            "id": "e588cbe5",
            "metadata": {
                "tags": []
            },
            "outputs": [],
            "source": [
                "% addpath('/home/remi/matlab/SPM/spm12');"
            ]
        },
        {
            "cell_type": "markdown",
            "id": "24f6b5eb",
            "metadata": {},
            "source": [
                "Initialize CPP_SPM"
            ]
        },
        {
            "cell_type": "code",
            "execution_count": null,
            "id": "2ed05c35",
            "metadata": {
                "tags": []
            },
            "outputs": [],
            "source": [
                "run ../initCppSpm.m;"
            ]
        },
        {
            "cell_type": "code",
            "execution_count": null,
            "id": "9c99d660",
            "metadata": {},
            "outputs": [],
            "source": [
                "cd('/home/jovyan/notebooks')"
            ]
        },
        {
            "cell_type": "code",
            "execution_count": null,
            "id": "3b0ba6ad",
            "metadata": {},
            "outputs": [],
            "source": [
                "demo_dir = fullfile(pwd, '..', 'demos', 'MoAE');\n",
                "addpath(demo_dir)"
            ]
        },
        {
            "cell_type": "markdown",
            "id": "33c1cc05",
            "metadata": {},
            "source": [
                "## Set options"
            ]
        },
        {
            "cell_type": "code",
            "execution_count": null,
            "id": "fad3437f",
            "metadata": {},
            "outputs": [],
            "source": [
                "% task to analyze\n",
                "clear opt\n",
                "\n",
                "demo_dir = fullfile(pwd, '..', 'demos', 'MoAE');\n",
                "addpath(demo_dir)\n",
                "\n",
                "opt.taskName = 'auditory';\n",
                "\n",
                "opt.dir.raw = fullfile(demo_dir, 'inputs', 'raw');\n",
                "opt.dir.preproc = fullfile(demo_dir, 'outputs', 'derivatives', 'cpp_spm-preproc');\n",
                "\n",
                "% specify if we want to run the analysis in native or MNI space\n",
                "opt.space = {'MNI'};\n",
                "\n",
                "opt.fwhm.func = 6;"
            ]
        },
        {
            "cell_type": "code",
            "execution_count": null,
            "id": "24773b49",
            "metadata": {},
            "outputs": [],
            "source": [
                "opt.pipeline.type = 'preproc';\n",
                "bidsSmoothing(opt);"
            ]
        },
        {
            "cell_type": "markdown",
            "id": "1f6acfb9",
            "metadata": {},
            "source": [
                "### Specify the result to compute using the BIDS statistical model"
            ]
        },
        {
            "cell_type": "code",
            "execution_count": null,
            "id": "f62f86b4",
            "metadata": {},
            "outputs": [],
            "source": [
                "!cat ../demos/MoAE/models/model-MoAE_smdl.json"
            ]
        },
        {
            "cell_type": "code",
            "execution_count": null,
            "id": "a718f8d7",
            "metadata": {},
            "outputs": [],
            "source": [
                "opt.pipeline.type = 'stats';\n",
                "\n",
                "opt.QA.glm.do = false;\n",
                "\n",
                "opt.model.file = fullfile(demo_dir, 'models', 'model-MoAE_smdl.json');\n",
                "\n",
                "opt.results(1) = returnDefaultResultsStructure();\n",
                "\n",
                "opt.results(1).Level = 'subject';\n",
                "\n",
                "opt.results(1).Name = 'listening';\n",
                "\n",
                "opt.results(1).Output.png = true();\n",
                "opt.results(1).Output.csv = true();\n",
                "opt.results(1).Output.thresh_spm = true();\n",
                "opt.results(1).Output.binary = true();\n",
                "\n",
                "%opt.results(1).Output.nidm = true();"
            ]
        },
        {
            "cell_type": "code",
            "execution_count": null,
            "id": "c585145a",
            "metadata": {},
            "outputs": [],
            "source": [
                "opt = checkOptions(opt);"
            ]
        },
        {
            "cell_type": "markdown",
            "id": "9dd22ced",
            "metadata": {},
            "source": [
                "### Run GLM, compute contrasts and results"
            ]
        },
        {
            "cell_type": "code",
            "execution_count": null,
            "id": "a22b3ada",
            "metadata": {
                "tags": []
            },
            "outputs": [],
            "source": [
                "bidsFFX('specifyAndEstimate', opt);\n",
                "bidsFFX('contrasts', opt);\n",
                "bidsResults(opt);"
            ]
        },
        {
            "cell_type": "code",
            "execution_count": null,
            "id": "08586923",
            "metadata": {},
            "outputs": [],
            "source": [
                "!tree ../demos/MoAE/outputs/derivatives/cpp_spm-stats"
            ]
        }
    ],
    "metadata": {
        "kernelspec": {
            "display_name": "Octave",
            "language": "octave",
            "name": "octave"
        },
        "language_info": {
            "file_extension": ".m",
            "help_links": [
                {
                    "text": "GNU Octave",
                    "url": "https://www.gnu.org/software/octave/support.html"
                },
                {
                    "text": "Octave Kernel",
                    "url": "https://github.com/Calysto/octave_kernel"
                },
                {
                    "text": "MetaKernel Magics",
                    "url": "https://metakernel.readthedocs.io/en/latest/source/README.html"
                }
            ],
            "mimetype": "text/x-octave",
            "name": "octave",
            "version": "4.2.2"
        }
    },
    "nbformat": 4,
    "nbformat_minor": 5
}
