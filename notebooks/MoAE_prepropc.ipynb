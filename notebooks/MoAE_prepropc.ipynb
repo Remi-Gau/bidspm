{
 "cells": [
  {
   "cell_type": "markdown",
   "id": "13de9b92",
   "metadata": {},
   "source": [
    "# MoAE prepocessing demo"
   ]
  },
  {
   "cell_type": "markdown",
   "id": "76d1d26b-50a2-499d-9349-12809e6069e8",
   "metadata": {
    "tags": []
   },
   "source": [
    "This is an interactive demo of how to use BIDSpm to preprocess data\n",
    "\n",
    "<!-- If you are not familiar with jupyter notebook here is a link on how to set it up -- > LINK\n",
    "\n",
    "You can also use Binder to try this online -- > LINK -->\n",
    "\n",
    "### Graphic output\n",
    "\n",
    "When using on Binder some of the SPM graphic output will not be generated, as SPM takes this environment as being command line only. \n",
    "\n",
    "### Running the demo locally\n",
    "\n",
    "**If you are running this notebook locally AND if SPM is not the in Octave path**\n",
    "\n",
    "Run the following cell with the appropriate path for your computer.\n",
    "\n",
    "**Note:** SPM will need to be compiled to work for Octave for some parts of this demo to "
   ]
  },
  {
   "cell_type": "code",
   "execution_count": null,
   "id": "e0e9b1e0",
   "metadata": {
    "tags": []
   },
   "outputs": [],
   "source": [
    "% addpath('/home/remi/matlab/SPM/spm12');"
   ]
  },
  {
   "cell_type": "markdown",
   "id": "fdde68b2-6c8f-4a03-9564-f00443f3351d",
   "metadata": {},
   "source": [
    "Initialize CPP_SPM"
   ]
  },
  {
   "cell_type": "code",
   "execution_count": null,
   "id": "08ce31bb",
   "metadata": {
    "tags": []
   },
   "outputs": [],
   "source": [
    "run ../initCppSpm.m;"
   ]
  },
  {
   "cell_type": "code",
   "execution_count": null,
   "id": "15bb4258-2578-4a3e-bca4-57659fd152e0",
   "metadata": {},
   "outputs": [],
   "source": [
    "demo_dir = fullfile(pwd, '..', 'demos', 'MoAE');\n",
    "addpath(demo_dir)"
   ]
  },
  {
   "cell_type": "markdown",
   "id": "ba4fd11f-1205-421d-a221-d944d486171b",
   "metadata": {},
   "source": [
    "For this demo, in case the data is not there, you can redownload it."
   ]
  },
  {
   "cell_type": "code",
   "execution_count": null,
   "id": "f446c339",
   "metadata": {
    "tags": []
   },
   "outputs": [],
   "source": [
    "download_data = true;\n",
    "download_moae_ds(download_data);"
   ]
  },
  {
   "cell_type": "code",
   "execution_count": null,
   "id": "116eab45-792c-499a-925a-14695895a3ac",
   "metadata": {},
   "outputs": [],
   "source": [
    "!tree ../demos/MoAE/inputs/raw"
   ]
  },
  {
   "cell_type": "markdown",
   "id": "8e7a82a6-92f6-4c1c-998d-bf5559970748",
   "metadata": {},
   "source": [
    "### Details of the MRI `func` sequence"
   ]
  },
  {
   "cell_type": "code",
   "execution_count": null,
   "id": "c9dd3791-0638-4af0-ac93-2b651f028d56",
   "metadata": {},
   "outputs": [],
   "source": [
    "!cat ../demos/MoAE/inputs/raw/task-auditory_bold.json"
   ]
  },
  {
   "cell_type": "markdown",
   "id": "46bc002f-521a-46a9-9c2d-5fc670c5f239",
   "metadata": {},
   "source": [
    "### Experimental design"
   ]
  },
  {
   "cell_type": "code",
   "execution_count": null,
   "id": "c4638ac6-552f-4eb4-a7bd-addf6b41a6ee",
   "metadata": {},
   "outputs": [],
   "source": [
    "!cat ../demos/MoAE/inputs/raw/sub-01/func/sub-01_task-auditory_events.tsv"
   ]
  },
  {
   "cell_type": "markdown",
   "id": "1c81977d-56b8-4a8a-8f0f-2ff559b1e3b8",
   "metadata": {},
   "source": [
    "## Set options for preprocessing"
   ]
  },
  {
   "cell_type": "code",
   "execution_count": null,
   "id": "972ed81d",
   "metadata": {},
   "outputs": [],
   "source": [
    "clear opt\n",
    "\n",
    "% task to analyze\n",
    "opt.taskName = 'auditory';\n",
    "\n",
    "% The directory where the data are located\n",
    "opt.dir.raw = fullfile(demo_dir, 'inputs', 'raw');\n",
    "opt.dir.derivatives = fullfile(demo_dir, 'outputs', 'derivatives');\n",
    "\n",
    "opt.pipeline.type = 'preproc';\n",
    "\n",
    "opt = checkOptions(opt);"
   ]
  },
  {
   "cell_type": "markdown",
   "id": "02b8a925-758b-4313-afb9-914afb7caf40",
   "metadata": {},
   "source": [
    "## Set options for preprocessing"
   ]
  },
  {
   "cell_type": "markdown",
   "id": "138db5ca-5ce8-4e45-a543-4b3e25a13405",
   "metadata": {},
   "source": [
    "Copy the files from the raw dataset, to leave the original data clean."
   ]
  },
  {
   "cell_type": "code",
   "execution_count": null,
   "id": "aaab0f22",
   "metadata": {},
   "outputs": [],
   "source": [
    "bidsCopyInputFolder(opt);"
   ]
  },
  {
   "cell_type": "code",
   "execution_count": null,
   "id": "f87c33a6-2653-40d9-be2d-1503eb17facc",
   "metadata": {},
   "outputs": [],
   "source": [
    "!tree ../demos/MoAE/outputs/derivatives/cpp_spm-preproc/"
   ]
  },
  {
   "cell_type": "markdown",
   "id": "e9852793-789d-4470-a806-35f15c8c9416",
   "metadata": {},
   "source": [
    "## Spatial preprocessing\n",
    "\n",
    "This will run:\n",
    "\n",
    "- realign\n",
    "- coregistration of `func` data to `anat`\n",
    "- segmentation of `anat`\n",
    "- skullstripping of `anat` and creation of brain mask in native space\n",
    "- normalization to MNI will be run unless you have set `opt.space = 'individual'` (`opt.space = 'MNI'` is the defaut)."
   ]
  },
  {
   "cell_type": "code",
   "execution_count": null,
   "id": "e1c79cbe-650d-4938-b8a4-4c8c04b7b86d",
   "metadata": {
    "tags": []
   },
   "outputs": [],
   "source": [
    "bidsSpatialPrepro(opt);"
   ]
  },
  {
   "cell_type": "code",
   "execution_count": null,
   "id": "51ebdda5-8c6d-4d0c-81c1-bd056c517a20",
   "metadata": {},
   "outputs": [],
   "source": [
    "!tree ../demos/MoAE/outputs/derivatives/cpp_spm-preproc/"
   ]
  },
  {
   "cell_type": "markdown",
   "id": "a3818c6e-9c2f-4382-ad7a-5476ee8cb66a",
   "metadata": {},
   "source": [
    "## Log files"
   ]
  }
 ],
 "metadata": {
  "kernelspec": {
   "display_name": "Octave",
   "language": "octave",
   "name": "octave"
  },
  "language_info": {
   "file_extension": ".m",
   "help_links": [
    {
     "text": "GNU Octave",
     "url": "https://www.gnu.org/software/octave/support.html"
    },
    {
     "text": "Octave Kernel",
     "url": "https://github.com/Calysto/octave_kernel"
    },
    {
     "text": "MetaKernel Magics",
     "url": "https://metakernel.readthedocs.io/en/latest/source/README.html"
    }
   ],
   "mimetype": "text/x-octave",
   "name": "octave",
   "version": "4.2.2"
  }
 },
 "nbformat": 4,
 "nbformat_minor": 5
}
