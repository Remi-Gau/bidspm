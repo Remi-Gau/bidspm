{
 "cells": [
  {
   "cell_type": "markdown",
   "id": "748352c4",
   "metadata": {},
   "source": [
    "# BIDS filenames\n",
    "\n",
    "Ideally we would like to have the same pipeline for statistical analysis\n",
    "whether our data was preprocessed with SPM or with fmriprep.\n",
    "\n",
    "## BIDS filenames\n",
    "\n",
    "Ideally we would like to have the same pipeline for statistical analysis\n",
    "whether our data was preprocessed with SPM or with fmriprep (for example).\n",
    "\n",
    "This is possible under the condition that the input files\n",
    "for the statistical analysis are BIDS compliant:\n",
    "meaning that they follow the typical pattern of BIDS files:\n",
    "\n",
    "- pseudo \"regular expression\" : `entity-label(_entity-label)+_suffix.extension`\n",
    "\n",
    "\n",
    "- `entity`, `label`, `suffix`, `extension` are alphanumeric only (no special character): `([a-zA-Z0-9])+`\n",
    "  - suffixes can be: `T1w` or `bold` but not `T1w_skullstripped` (no underscore allowed)\n",
    "\n",
    "\n",
    "- entity and label are separated by a dash:\n",
    "  `entity-label --> ([a-zA-Z0-9])+-([a-zA-Z0-9])+`\n",
    "  - you can have: `sub-01` but not `sub-01-blind`\n",
    "\n",
    "\n",
    "- entity-label pairs are separated by an underscore:\n",
    "  `entity-label(_entity-label)+ --> ([a-zA-Z0-9])+-([a-zA-Z0-9])+(_([a-zA-Z0-9])+-([a-zA-Z0-9])+)+`\n",
    "\n",
    "\n",
    "- **prefixes are not a thing in official BIDS names**\n",
    "\n",
    "BIDS has a number of officially recognised entities \n",
    "(`sub`, `ses`, `task`...) that must come in a specific order for each data type.\n",
    "\n",
    "https://bids-specification.readthedocs.io/en/stable/99-appendices/04-entity-table.html\n",
    "\n",
    "BIDS derivatives adds a few more entities (`desc`, `space`, `res`...)\n",
    "and suffixes (`pseg`, `dseg`, `mask`...)\n",
    "that can be used to name and describe preprocessed data.\n",
    "\n",
    "\n",
    "(C) Copyright 2022 Remi Gau"
   ]
  },
  {
   "cell_type": "markdown",
   "id": "d6eeb784",
   "metadata": {},
   "source": [
    "The toolbox BIDS Matlab has some function to help you create bids valid names."
   ]
  },
  {
   "cell_type": "markdown",
   "id": "cf83233d",
   "metadata": {},
   "source": [
    "## Note: octave notebook\n",
    "\n",
    "If you are running in an octave notebook.\n",
    "\n",
    "### Graphic output\n",
    "\n",
    "When using on Binder some of the SPM graphic output will not be generated, \n",
    "as SPM takes this environment as being command line only. \n",
    "\n",
    "### Running the demo locally\n",
    "\n",
    "**If you are running this notebook locally AND if SPM is not the in Octave path**\n",
    "\n",
    "Run the following cell with the appropriate path for your computer.\n",
    "\n",
    "**Note:** \n",
    "SPM will need to be compiled to work for Octave \n",
    "for some parts of this demo to work."
   ]
  },
  {
   "cell_type": "code",
   "execution_count": null,
   "id": "e212e022",
   "metadata": {},
   "outputs": [],
   "source": [
    "% addpath('/home/remi/matlab/SPM/spm12');"
   ]
  },
  {
   "cell_type": "code",
   "execution_count": null,
   "id": "efeae953",
   "metadata": {},
   "outputs": [],
   "source": [
    "this_dir = fileparts(mfilename('fullpath'));\n",
    "\n",
    "addpath(fullfile(this_dir, '..', '..'));\n",
    "\n",
    "bidspm();"
   ]
  },
  {
   "cell_type": "code",
   "execution_count": null,
   "id": "61d66ea6",
   "metadata": {},
   "outputs": [],
   "source": [
    "file_spec = struct('entities', struct('run', '01', ...\n",
    "                                      'sub', '01', ...\n",
    "                                      'task', 'visMotionLocalizer'), ...\n",
    "                   'suffix', 'bold', ...\n",
    "                   'ext', '.nii');\n",
    "\n",
    "bidsFile = bids.File(file_spec)\n",
    "bidsFile.filename"
   ]
  },
  {
   "cell_type": "markdown",
   "id": "c968b79a",
   "metadata": {},
   "source": [
    "If not enough information is provided, BIDS matlab should hopefully help you figure out what is missing."
   ]
  },
  {
   "cell_type": "code",
   "execution_count": null,
   "id": "c5b24443",
   "metadata": {},
   "outputs": [],
   "source": [
    "file_spec = struct('entities', struct('run', '01', ...\n",
    "                                      'sub', '01', ...\n",
    "                                      'task', 'visMotionLocalizer'), ...\n",
    "                   'suffix', 'events', ...\n",
    "                   'ext', '.tsv');\n",
    "    \n",
    "bidsFile = bids.File(file_spec)\n",
    "bidsFile.filename"
   ]
  },
  {
   "cell_type": "code",
   "execution_count": null,
   "id": "80e96806",
   "metadata": {},
   "outputs": [],
   "source": [
    "file_spec.modality = 'func';\n",
    "bidsFile = bids.File(file_spec)\n",
    "bidsFile.filename"
   ]
  },
  {
   "cell_type": "markdown",
   "id": "16feaf02",
   "metadata": {},
   "source": [
    "Entities must have a specific order to be BIDS valid.\n",
    "You can ignore those rules by not using the bids schema."
   ]
  },
  {
   "cell_type": "code",
   "execution_count": null,
   "id": "b69c412f",
   "metadata": {},
   "outputs": [],
   "source": [
    "file_spec = struct('entities', struct('run', '01', ...\n",
    "                                      'sub', '01', ...\n",
    "                                      'task', 'visMotionLocalizer'), ...\n",
    "                   'suffix', 'bold', ...\n",
    "                   'ext', '.nii', ...\n",
    "                   'use_schema', false);\n",
    "\n",
    "bidsFile = bids.File(file_spec)\n",
    "bidsFile.filename"
   ]
  },
  {
   "cell_type": "markdown",
   "id": "8200da07",
   "metadata": {
    "tags": []
   },
   "source": [
    "## Typical SPM filenames\n",
    "\n",
    "SPM typically adds prefixes to filenames and concatenates them.\n",
    "\n",
    "- `r` for realigned or resliced\n",
    "- `w` for warped (often means normalized in MNI space)\n",
    "- `a` for slice time corrected images\n",
    "- `u` for unwarped\n",
    "- `s` for smoothed\n",
    "- `c1` for grey matter tissue probability maps\n",
    "- ..."
   ]
  },
  {
   "cell_type": "code",
   "execution_count": null,
   "id": "c5501a62",
   "metadata": {},
   "outputs": [],
   "source": [
    "% typical gray matter probabilistic segmentation\n",
    "file_spec = struct('entities', struct('sub', '01'), ...\n",
    "                   'suffix', 'T1w', ...\n",
    "                   'ext', '.nii', ...\n",
    "                   'prefix', 'c1');\n",
    "\n",
    "bidsFile = bids.File(file_spec)\n",
    "bidsFile.filename\n",
    "\n",
    "% typical preprocessed data in native space\n",
    "file_spec = struct('entities', struct('run', '01', ...\n",
    "                                      'sub', '01', ...\n",
    "                                      'task', 'visMotionLocalizer'), ...\n",
    "                   'suffix', 'bold', ...\n",
    "                   'ext', '.nii', ...\n",
    "                   'prefix', 'ua');\n",
    "\n",
    "bidsFile = bids.File(file_spec)\n",
    "bidsFile.filename\n",
    "\n",
    "% typical smoothed preprocessed data in MNI space\n",
    "file_spec = struct('entities', struct('run', '01', ...\n",
    "                                      'sub', '01', ...\n",
    "                                      'task', 'visMotionLocalizer'), ...\n",
    "                   'suffix', 'bold', ...\n",
    "                   'ext', '.nii', ...\n",
    "                   'prefix', 'swua');\n",
    "\n",
    "bidsFile = bids.File(file_spec)\n",
    "bidsFile.filename"
   ]
  },
  {
   "cell_type": "markdown",
   "id": "e959dead",
   "metadata": {},
   "source": [
    "## BIDS derivatives filenames\n",
    "But those SPM files are not BIDS valid because official valid BIDS files don't have prefixes.\n",
    "\n",
    "So SPM output must be renamed to be able to create BIDS valid output datasets."
   ]
  },
  {
   "cell_type": "code",
   "execution_count": null,
   "id": "46bbae6d",
   "metadata": {},
   "outputs": [],
   "source": [
    "% space: can specify if this image is in MNI space or individual space\n",
    "% desc: description can give more info about what is this file about: \n",
    "% \"preproc\" --> \"preprocessed\"\n",
    "file_spec = struct('entities', struct('sub', '01', ...\n",
    "                                      'run', '01', ...\n",
    "                                      'task', 'visMotionLocalizer', ...\n",
    "                                      'space', 'MNI', ...\n",
    "                                      'desc', 'preproc'), ...\n",
    "                   'suffix', 'bold', ...\n",
    "                   'ext', '.nii');\n",
    "\n",
    "bidsFile = bids.File(file_spec)\n",
    "bidsFile.filename"
   ]
  },
  {
   "cell_type": "markdown",
   "id": "ed26d428",
   "metadata": {},
   "source": [
    "It can be a pain to create the right map \n",
    "between a specific SPM type of output and \"the right\" BIDS equivalent.\n",
    "\n",
    "So easier to use [the CPP `spm_2_bids` library](https://github.com/cpp-lln-lab/spm_2_bids)\n",
    "which will also try to use the \"proper\" MNI space name \n",
    "(`IXI594Sapce` is the one used by most of SPM)."
   ]
  },
  {
   "cell_type": "code",
   "execution_count": null,
   "id": "35ca15c4",
   "metadata": {},
   "outputs": [],
   "source": [
    "input_name = 'wc1sub-01_T1w.nii';\n",
    "output_name = spm_2_bids(input_name)\n",
    "\n",
    "input_name = 'uasub-01_task-visMotionLocalizer_run-01_bold.nii';\n",
    "output_name = spm_2_bids(input_name)\n",
    "\n",
    "input_name = 'wuasub-01_task-visMotionLocalizer_run-01_bold.nii';\n",
    "output_name = spm_2_bids(input_name)"
   ]
  },
  {
   "cell_type": "markdown",
   "id": "df5b40b4",
   "metadata": {},
   "source": [
    "spm_2_bids contains a certain list of default mapping to use\n",
    "for renaming but you can also add some extra or modify the defaults.\n",
    "\n",
    "bidspm comes with its own preset `spm_2_bids` renaming map."
   ]
  },
  {
   "cell_type": "code",
   "execution_count": null,
   "id": "4b556407",
   "metadata": {},
   "outputs": [],
   "source": [
    "opt = checkOptions(struct());\n",
    "opt = set_spm_2_bids_defaults(opt);\n",
    "\n",
    "input_name = 'wc1sub-01_T1w.nii';\n",
    "output_name = spm_2_bids(input_name, opt.spm_2_bids)\n",
    "\n",
    "input_name = 'uasub-01_task-visMotionLocalizer_run-01_bold.nii';\n",
    "output_name = spm_2_bids(input_name, opt.spm_2_bids)\n",
    "\n",
    "input_name = 'wuasub-01_task-visMotionLocalizer_run-01_bold.nii';\n",
    "output_name = spm_2_bids(input_name, opt.spm_2_bids)\n",
    "\n",
    "opt.fwhm.func = 6;\n",
    "input_name = 'swuasub-01_task-visMotionLocalizer_run-01_bold.nii';\n",
    "output_name = spm_2_bids(input_name, opt.spm_2_bids)"
   ]
  },
  {
   "cell_type": "markdown",
   "id": "631f25d0",
   "metadata": {},
   "source": [
    "### `bidsRename`\n",
    "\n",
    "The `bidsRename` workflow uses this to rename all \"SPM files\" at the end of each step.\n"
   ]
  },
  {
   "cell_type": "code",
   "execution_count": null,
   "id": "642b1bb8",
   "metadata": {},
   "outputs": [],
   "source": [
    "demo_dir = fullfile(pwd, '..', 'MoAE');\n",
    "\n",
    "opt.dir.derivatives = fullfile(demo_dir, 'outputs', 'derivatives');\n",
    "opt.dir.preproc = fullfile(opt.dir.derivatives, 'bidspm-preproc');\n",
    "\n",
    "opt = checkOptions(opt);\n",
    "\n",
    "bidsRename(opt);"
   ]
  },
  {
   "cell_type": "markdown",
   "id": "d7b580ec",
   "metadata": {},
   "source": [
    "Example of the end of spatial preprocessing\n",
    "\n",
    "```matlab\n",
    "  if ~opt.realign.useUnwarp\n",
    "    opt.spm_2_bids = opt.spm_2_bids.add_mapping('prefix', opt.spm_2_bids.realign, ...\n",
    "                                                'name_spec', opt.spm_2_bids.cfg.preproc);\n",
    "\n",
    "    opt.spm_2_bids = opt.spm_2_bids.add_mapping('prefix', [opt.spm_2_bids.realign 'mean'], ...\n",
    "                                                'name_spec', opt.spm_2_bids.cfg.preproc);\n",
    "    opt.spm_2_bids = opt.spm_2_bids.flatten_mapping();\n",
    "  end\n",
    "\n",
    "  bidsRename(opt);\n",
    "```  "
   ]
  }
 ],
 "metadata": {
  "kernelspec": {
   "display_name": "Octave",
   "language": "octave",
   "name": "octave"
  },
  "language_info": {
   "file_extension": ".m",
   "help_links": [
    {
     "text": "GNU Octave",
     "url": "https://www.gnu.org/software/octave/support.html"
    },
    {
     "text": "Octave Kernel",
     "url": "https://github.com/Calysto/octave_kernel"
    },
    {
     "text": "MetaKernel Magics",
     "url": "https://metakernel.readthedocs.io/en/latest/source/README.html"
    }
   ],
   "mimetype": "text/x-octave",
   "name": "octave",
   "version": "6.4.0"
  }
 },
 "nbformat": 4,
 "nbformat_minor": 5
}
